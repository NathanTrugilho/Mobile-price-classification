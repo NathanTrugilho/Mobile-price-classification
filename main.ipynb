{
 "cells": [
  {
   "cell_type": "markdown",
   "id": "76eae278",
   "metadata": {},
   "source": [
    " <h3> Faço a correlação de pearson"
   ]
  },
  {
   "cell_type": "code",
   "execution_count": null,
   "id": "0a89a499",
   "metadata": {},
   "outputs": [],
   "source": [
    "from functions.split_dataset import split_dataset\n",
    "from functions.correlation import show_pearson_correlation\n",
    "\n",
    "X_train, X_test, y_train, y_test = split_dataset()\n",
    "show_pearson_correlation(X_train, y_train, savePng=False) # Descomentar para imprimir a correlação de pearson"
   ]
  },
  {
   "cell_type": "markdown",
   "id": "d962aa5c",
   "metadata": {},
   "source": [
    " <h3> Divido o dataset com os atributos que quero"
   ]
  },
  {
   "cell_type": "code",
   "execution_count": null,
   "id": "44968d0e",
   "metadata": {},
   "outputs": [],
   "source": [
    "import pandas as pd\n",
    "\n",
    "# Se for usar somente alguns atributos ==========================================\n",
    "\n",
    "#features = ['ram']\n",
    "#features = ['battery_power', 'ram']\n",
    "#features = ['battery_power', 'ram', 'px_height', 'px_width']\n",
    "\n",
    "# Todos os atributos menos Ram ======================================================\n",
    "\n",
    "#df = pd.read_csv('dataset/mobile_price_classification_dataset.csv')\n",
    "#features = [col for col in df.columns if col not in ['price_range', 'ram']]\n",
    "\n",
    "#X_train, X_test, y_train, y_test = split_dataset(selected_features = features) # Chamo novamente com os atributos que quero\n",
    "\n",
    "# Se for com todos os atributos ==============================\n",
    "X_train, X_test, y_train, y_test = split_dataset()"
   ]
  },
  {
   "cell_type": "markdown",
   "id": "a171629e",
   "metadata": {},
   "source": [
    "<h3> Fiz um scaling no dataset"
   ]
  },
  {
   "cell_type": "code",
   "execution_count": null,
   "id": "30af41e1",
   "metadata": {},
   "outputs": [],
   "source": [
    "from sklearn.preprocessing import StandardScaler\n",
    "scaler = StandardScaler()\n",
    "X_train = scaler.fit_transform(X_train)\n",
    "X_test = scaler.transform(X_test)"
   ]
  },
  {
   "cell_type": "markdown",
   "id": "7e296dca",
   "metadata": {},
   "source": [
    "<h3> Defino o mlp e seus parâmetros"
   ]
  },
  {
   "cell_type": "code",
   "execution_count": null,
   "id": "f9eb96c6",
   "metadata": {},
   "outputs": [],
   "source": [
    "from sklearn.neural_network import MLPClassifier\n",
    "\n",
    "mlp = MLPClassifier(\n",
    "    hidden_layer_sizes=(4), # Ficou melhor usando todos os atributos\n",
    "    activation='tanh', #ficou melhor com essa\n",
    "    solver='adam',\n",
    "    alpha=0.001,   \n",
    "    learning_rate='adaptive',\n",
    "    max_iter=2000, # abaixo de 1k dá warning de não convergência\n",
    "    random_state=28,\n",
    "    verbose=False\n",
    ")"
   ]
  },
  {
   "cell_type": "markdown",
   "id": "8b19494d",
   "metadata": {},
   "source": [
    "<h1> Rodo o K-Fold para validação"
   ]
  },
  {
   "cell_type": "code",
   "execution_count": null,
   "id": "53148334",
   "metadata": {},
   "outputs": [],
   "source": [
    "from sklearn.model_selection import KFold\n",
    "from sklearn.metrics import accuracy_score\n",
    "import numpy as np\n",
    "\n",
    "# Definição do K-Fold\n",
    "kf = KFold(n_splits=5, shuffle=True, random_state=28)\n",
    "\n",
    "scores = []\n",
    "for train_index, val_index in kf.split(X_train):\n",
    "    X_tr, X_val = X_train[train_index], X_train[val_index]\n",
    "    y_tr, y_val = y_train.iloc[train_index], y_train.iloc[val_index]\n",
    "\n",
    "    mlp.fit(X_tr, y_tr)\n",
    "    y_pred = mlp.predict(X_val)\n",
    "    scores.append(accuracy_score(y_val, y_pred))\n",
    "\n",
    "print(\"Acurácias em cada fold:\", scores)\n",
    "print(\"Acurácia média (validação):\", np.mean(scores))"
   ]
  },
  {
   "cell_type": "markdown",
   "id": "8babbf62",
   "metadata": {},
   "source": [
    "<h3> Treino o MLP"
   ]
  },
  {
   "cell_type": "code",
   "execution_count": null,
   "id": "5be06e2b",
   "metadata": {},
   "outputs": [],
   "source": [
    "mlp.fit(X_train, y_train)\n",
    "\n",
    "y_test_pred = mlp.predict(X_test)\n",
    "print(f\"Acurácia no teste: {accuracy_score(y_test, y_test_pred)}\")\n"
   ]
  },
  {
   "cell_type": "markdown",
   "id": "f5931e1e",
   "metadata": {},
   "source": [
    "<h3> Faz a matriz de confusão"
   ]
  },
  {
   "cell_type": "code",
   "execution_count": null,
   "id": "c3d993b9",
   "metadata": {},
   "outputs": [],
   "source": [
    "from sklearn.metrics import confusion_matrix, ConfusionMatrixDisplay\n",
    "import matplotlib.pyplot as plt\n",
    "\n",
    "cm = confusion_matrix(y_test, y_test_pred)\n",
    "\n",
    "disp = ConfusionMatrixDisplay(confusion_matrix=cm, display_labels=np.unique(y_test))\n",
    "disp.plot(cmap=plt.cm.Blues, values_format='d', colorbar=False)  # mostra os números inteiros\n",
    "plt.title(\"Confusion Matrix\")\n",
    "plt.savefig(\"conf_matrix\", dpi=300) \n",
    "plt.show()\n"
   ]
  },
  {
   "cell_type": "markdown",
   "id": "156a3d2d",
   "metadata": {},
   "source": [
    "<h3> Calculo as métricas do modelo treinado e salvo num arquivo .txt"
   ]
  },
  {
   "cell_type": "code",
   "execution_count": null,
   "id": "408279d4",
   "metadata": {},
   "outputs": [],
   "source": [
    "from sklearn.metrics import classification_report\n",
    "import pandas as pd\n",
    "\n",
    "# Gera várias métricas pra avaliar o modelo\n",
    "report = classification_report(y_test, y_test_pred, output_dict=True)\n",
    "\n",
    "for key, value in report.items():\n",
    "    if isinstance(value, dict): #precisa pq accuracy não é um sub-dicionario\n",
    "        value.pop('support', None)\n",
    "\n",
    "report.pop('weighted avg') # Tirei a média ponderada pq eu fiz o balanceamento das classes no conjunto de testes, então é o mesmo para todos\n",
    "accuracy = report.get(\"accuracy\")\n",
    "report.pop(\"accuracy\")\n",
    "\n",
    "# Tenho que transformar pra dataframe pq o dict não tem o método to_string\n",
    "df_report = pd.DataFrame(report).transpose() # fica mais bonito transposto\n",
    "report_string = df_report.to_string()\n",
    "\n",
    "with open(\"Model_metrics.txt\", 'w') as f:\n",
    "    f.write(report_string)\n",
    "    f.write(f\"\\nModel accuracy: {str(accuracy)}\")\n"
   ]
  },
  {
   "cell_type": "markdown",
   "id": "cbab7454",
   "metadata": {},
   "source": [
    "<h3> Ploto e salvo num arquivo a Curva ROC (também calcula o AUC para cada classe e exibe no plot)"
   ]
  },
  {
   "cell_type": "code",
   "execution_count": null,
   "id": "cf1285c5",
   "metadata": {},
   "outputs": [],
   "source": [
    "from functions.roc_curve import calculate_roc_curve\n",
    "\n",
    "y_pred_proba = mlp.predict_proba(X_test)\n",
    "calculate_roc_curve(y_test, y_pred_proba)"
   ]
  }
 ],
 "metadata": {
  "kernelspec": {
   "display_name": "Python 3",
   "language": "python",
   "name": "python3"
  },
  "language_info": {
   "codemirror_mode": {
    "name": "ipython",
    "version": 3
   },
   "file_extension": ".py",
   "mimetype": "text/x-python",
   "name": "python",
   "nbconvert_exporter": "python",
   "pygments_lexer": "ipython3",
   "version": "3.13.1"
  }
 },
 "nbformat": 4,
 "nbformat_minor": 5
}
